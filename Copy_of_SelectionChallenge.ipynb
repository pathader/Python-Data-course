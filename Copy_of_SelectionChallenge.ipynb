{
  "nbformat": 4,
  "nbformat_minor": 0,
  "metadata": {
    "colab": {
      "provenance": [],
      "toc_visible": true,
      "include_colab_link": true
    },
    "kernelspec": {
      "name": "python3",
      "display_name": "Python 3"
    }
  },
  "cells": [
    {
      "cell_type": "markdown",
      "metadata": {
        "id": "view-in-github",
        "colab_type": "text"
      },
      "source": [
        "<a href=\"https://colab.research.google.com/github/pathader/Python-Data-course/blob/main/Copy_of_SelectionChallenge.ipynb\" target=\"_parent\"><img src=\"https://colab.research.google.com/assets/colab-badge.svg\" alt=\"Open In Colab\"/></a>"
      ]
    },
    {
      "cell_type": "markdown",
      "metadata": {
        "id": "-QxAKPD8DZfj"
      },
      "source": [
        "# Three selection challenges\n",
        "\n",
        "---\n"
      ]
    },
    {
      "cell_type": "markdown",
      "metadata": {
        "id": "2KYUALILDcM9"
      },
      "source": [
        "### Challenge 1 - password format  \n",
        "\n",
        "Write a function called **check_password_valid()** which will check the validity of a **password** input by a user.\n",
        "\n",
        "Rules for a valid password are:  \n",
        "\n",
        "*  At least 1 letter between [a-z] and 1 letter between [A-Z].\n",
        "*  At least 1 number between [0-9].\n",
        "*  At least 1 character from [$#@].\n",
        "*  Minimum length 6 characters.\n",
        "*  Maximum length 16 characters.  \n",
        "\n",
        "Let the user know if the `password` they have typed is valid and, if not, where was the first error.\n",
        "\n",
        "*Hint:  to test if a set of characters is present in a password String, you can use re.search('[character set]', `password`)*  \n",
        "\n",
        "Example:   \n",
        "*if re.search('[a-z]',`password`):*    \n",
        "if there is at least 1 character a-z in the password, re.search will not be None.\n",
        "\n",
        "**re** is a pre-written Python function for pattern searching in Strings.  It has been imported for you in the code cell below.  "
      ]
    },
    {
      "cell_type": "code",
      "metadata": {
        "id": "8wBK9IA4BO2e",
        "colab": {
          "base_uri": "https://localhost:8080/"
        },
        "outputId": "0a1cbeb4-2626-4ef9-e6ee-2f8a7f59e3c8"
      },
      "source": [
        "import re\n",
        "\n",
        "# add your check_PasswordValid() function and call below here\n",
        "def check_password_valid():\n",
        "\n",
        "    password=input(\"Enter a valid password \")\n",
        "    if len(password)<6:\n",
        "      print(\"Invalid password. Minimum length is 6 characters.\")\n",
        "      return\n",
        "    if len(password)>16:\n",
        "      print(\"Invalid password. Maximum length is 16 characters.\")\n",
        "      return\n",
        "    #at least one lowercase letter\n",
        "    if not re.search('[a-z]', password):\n",
        "     print(\"Invalid password. At least one lowercase letter is required.\")\n",
        "     return\n",
        "  #at least one uppercase letter\n",
        "    if not re.search('[A-Z]', password):\n",
        "      print(\"Invalid password. At least one uppercase letter is required.\")\n",
        "    return\n",
        "  #if the password has at least one digit\n",
        "    if not re.search('[0-9]', password):\n",
        "      print(\"Invalid password. At least one digit is required.\")\n",
        "      return\n",
        "  #at least one special character from [$#@]\n",
        "    if not re.search('[$#@]', password):\n",
        "      print(\"Invalid password. At least one character from [$#@] is required.\")\n",
        "      return\n",
        "\n",
        "    print(\"Valid password.\")\n",
        "\n",
        "check_password_valid()\n"
      ],
      "execution_count": 17,
      "outputs": [
        {
          "output_type": "stream",
          "name": "stdout",
          "text": [
            "Enter a valid password richa,shende@33\n",
            "Invalid password. At least one uppercase letter is required.\n"
          ]
        }
      ]
    },
    {
      "cell_type": "markdown",
      "metadata": {
        "id": "f0R4GYTEFQS-"
      },
      "source": [
        "---\n",
        "### Challenge 2 - triangle shape  \n",
        "\n",
        "Write a function called **evaluate_triangle_shape()** which will check if a triangle is equilateral, isosceles or scalene, based on the three side lengths entered by a user (**x**, **y** and **z**.\n",
        "\n",
        "An equilateral triangle is a triangle in which all three sides are equal.\n",
        "A scalene triangle is a triangle that has three unequal sides.\n",
        "An isosceles triangle is a triangle with (at least) two equal sides.\n",
        "\n",
        "For example:  \n",
        "A triange with side lengths                                 \n",
        "x: 6                                                                    \n",
        "y: 8                                                                    \n",
        "z: 12                                                                   \n",
        "is a *Scalene triangle*\n",
        "\n",
        "A triangle with side lengths\n",
        "x:5  \n",
        "y:3   \n",
        "z:5  \n",
        "is an *Isosceles triangle*"
      ]
    },
    {
      "cell_type": "code",
      "metadata": {
        "id": "oBgl4ro1DVL0",
        "colab": {
          "base_uri": "https://localhost:8080/"
        },
        "outputId": "1d76e323-12cb-433f-cccd-f7478b51c9c5"
      },
      "source": [
        " def evaluate_triangle_shape():\n",
        "    print(\"Enter the three sides of the triangle : \")\n",
        "    x=int(input(\"Enter x side: \"))\n",
        "    y=int(input(\"Enter y side: \"))\n",
        "    z=int(input(\"Enter z side: \"))\n",
        "    if x==y==z:\n",
        "      print(\"It is a Equilateral triangle\")\n",
        "      return\n",
        "    if x!=y and x!=z and y!=z:\n",
        "      print(\"It is a Scalen Triangle due to three unequal sides\")\n",
        "    else:\n",
        "      print(\"It is a Isosceles Triangle as two side are equal\")\n",
        "\n",
        "\n",
        "evaluate_triangle_shape()"
      ],
      "execution_count": 6,
      "outputs": [
        {
          "output_type": "stream",
          "name": "stdout",
          "text": [
            "Enter the three sides of the triangle : \n",
            "Enter x side: 4\n",
            "Enter y side: 5\n",
            "Enter z side: 6\n",
            "It is a Scalen Triangle due to three unequal sides\n"
          ]
        }
      ]
    },
    {
      "cell_type": "markdown",
      "metadata": {
        "id": "hr2EotkqG33l"
      },
      "source": [
        "---\n",
        "### Challenge 3 - which season\n",
        "\n",
        "Write a function called **determine_season()** which will ask the user to enter two integers representing a **month** and **day** and prints the season for that month and day.\n",
        "\n",
        "Note:  for this exercise the season dates are:\n",
        "*  Winter December 21 to March 20    \n",
        "*  Spring March 21 to June 20  \n",
        "*  Summer June 21 to September 20  \n",
        "*  Autumn September 21 to December 20\n",
        "\n",
        "Test input:  \n",
        "Input the month (e.g. January, February etc.): 7                     \n",
        "Input the day: 31                                                       \n",
        "\n",
        "Expected output:  \n",
        "Season is summer\n",
        "\n",
        "*Note: this will require multiple and or or operators and you should use brackets to help Python know which operations to do first*  \n",
        "\n",
        "*For an extra challenge you can check that the day is valid for the month*"
      ]
    },
    {
      "cell_type": "code",
      "metadata": {
        "id": "cvbfz8nzG4IL",
        "colab": {
          "base_uri": "https://localhost:8080/"
        },
        "outputId": "080c390f-e191-477c-cb94-9709039a7df2"
      },
      "source": [
        "def determine_season():\n",
        "    month=int(input(\"Enter a number for the  month: \"))\n",
        "    day=int(input(\"Enter a day: \"))\n",
        "\n",
        "    if month<1 or month>12:\n",
        "      print(\"Invalid month. Please enter a number between 1 and 12\")\n",
        "      return\n",
        "    if day<1 or day>31:\n",
        "      print(\"Invalid day. Please enter a number between 1 and 31\")\n",
        "      return\n",
        "    if month in [4, 6, 9, 11] and day>30:\n",
        "      print(\"Invalid day. This month has only 30 days.\")\n",
        "      return\n",
        "    if month==2 and day>29:\n",
        "      print(\"Invalid day. February has only 28 or 29 days depending on the year.\")\n",
        "      return\n",
        "  #  the season for that month and day\n",
        "    if (month==12 and day>=21) or (month==1) or (month==2) or (month==3 and day<=20):\n",
        "      print(\"Season is winter.\")\n",
        "      return\n",
        "    if (month==3 and day>=21) or (month==4) or (month==5) or (month==6 and day<=20):\n",
        "      print(\"Season is spring.\")\n",
        "      return\n",
        "    if (month==6 and day>=21) or (month==7) or (month==8) or (month==9 and day<=20):\n",
        "      print(\"Season is summer.\")\n",
        "      return\n",
        "    if (month==9 and day>=21) or (month==10) or (month==11) or (month==12 and day<=20):\n",
        "      print(\"Season is autumn.\")\n",
        "      return\n",
        "\n",
        "determine_season()\n"
      ],
      "execution_count": 9,
      "outputs": [
        {
          "output_type": "stream",
          "name": "stdout",
          "text": [
            "Enter a number for the  month: 12\n",
            "Enter a day: 44\n",
            "Invalid day. Please enter a number between 1 and 31\n"
          ]
        }
      ]
    }
  ]
}