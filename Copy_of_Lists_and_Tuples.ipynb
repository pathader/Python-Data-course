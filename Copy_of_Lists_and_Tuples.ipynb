{
  "nbformat": 4,
  "nbformat_minor": 0,
  "metadata": {
    "colab": {
      "provenance": [],
      "toc_visible": true,
      "include_colab_link": true
    },
    "kernelspec": {
      "name": "python3",
      "display_name": "Python 3"
    },
    "language_info": {
      "name": "python"
    }
  },
  "cells": [
    {
      "cell_type": "markdown",
      "metadata": {
        "id": "view-in-github",
        "colab_type": "text"
      },
      "source": [
        "<a href=\"https://colab.research.google.com/github/pathader/Python-Data-course/blob/main/Copy_of_Lists_and_Tuples.ipynb\" target=\"_parent\"><img src=\"https://colab.research.google.com/assets/colab-badge.svg\" alt=\"Open In Colab\"/></a>"
      ]
    },
    {
      "cell_type": "markdown",
      "metadata": {
        "id": "Z-M-RCWATK71"
      },
      "source": [
        "# Lists and tuples\n",
        "\n",
        "Often we need to store a number of single items of data together so that they can be processed together. This might be because all the data refers to one person (e.g. name, age, gender, etc) OR it might be because we have a set of data (e.g. all the items that should be displayed in a drop down list, such as all the years from this year back to 100 years ago so that someone can select their year of birth)\n",
        "\n",
        "Python has a range of data structures available including:\n",
        "*   lists  \n",
        "*   tuples  \n",
        "*   dictionaries  \n",
        "*   sets\n",
        "\n",
        "This worksheet looks at lists and tuples.\n",
        "\n",
        "## List\n",
        "A list is a set of related, individual data objects, that are indexed and can be processed as a whole, as subsets or as individual items.  Lists are stored, essentially, as contiguous items in memory so that access can be as quick as possible.  However, they are mutable (they can be changed after they are created and stored) and so those mechanisms need to include extra functionality to deal with changing list sizes.\n",
        "\n",
        "## Tuple\n",
        "Essentially the same as a list but it is immutable.  Once it has been created it can't be changed.  It is stored in memory as contiguous items, with the size required being fixed right from the start.  This makes it faster to access.\n",
        "\n",
        "The code below will create two lists and a tuple.\n",
        "*   the first list contains 1000 random numbers between 1 and 100\n",
        "*   the second list is of random length (up to 5000) and each item is one of the 9 characteristics that are protected under the Equality Act in the UK.\n",
        "*   the tuple contains the 9 protected characteristics\n",
        "\n",
        "Before you start the exercises, run the code below.  It will generate the lists and tuple so that you can use them in the exercises.  If you need to recreate the lists again (because you have changed them and need to work on the originals, just run this cell again).\n",
        "\n",
        "***Note:***  *a list variable contains a reference to the start of the list in memory, rather than storing the list itself.  This means that if you assign the list to another variable (to make a copy), it will only copy across the reference.  If you change the copy, you change the original list.*\n",
        "\n",
        "*If you need to make a copy of the list you will need to use a loop to create a new list and copy all items across.*"
      ]
    },
    {
      "cell_type": "code",
      "metadata": {
        "id": "BDRckXeQXFMT"
      },
      "source": [
        "from random import randint, choice\n",
        "\n",
        "def get_num_list():\n",
        "  num_list = [randint(1,100) for n in range(1000)]\n",
        "  return num_list\n",
        "\n",
        "def get_protected_characteristics():\n",
        "  characteristics_tuple = ('age','disability','gender reassignment','marriage and civil partnership','pregnancy and maternity','race','religion or belief','sex','sexual orientation')\n",
        "  return characteristics_tuple\n",
        "\n",
        "def get_protected_characteristic_list(protected_characteristics):\n",
        "  char_list = [choice(protected_characteristics) for ch in range(randint(1,5000))]\n",
        "  return char_list\n",
        "\n",
        "nums = get_num_list()\n",
        "protected_characteristics = get_protected_characteristics()\n",
        "characteristics = get_protected_characteristic_list(protected_characteristics)"
      ],
      "execution_count": 1,
      "outputs": []
    },
    {
      "cell_type": "markdown",
      "metadata": {
        "id": "xXT38-4ZV45n"
      },
      "source": [
        "## The exercises below will use the lists:  \n",
        "*   **nums** (a list of between 1 and 1000 random numbers, each number is between 0 and 1000)\n",
        "*   **characteristics** (a list of 5000 random protected_characteristics)\n",
        "\n",
        "and the tuple:\n",
        "*  **protected_characteristics** (a set of the 9 protected characteristics identified in the Equality Act)\n",
        "\n",
        "## You can run the cell above any number of times to generate new lists."
      ]
    },
    {
      "cell_type": "markdown",
      "metadata": {
        "id": "Ft0dXl7fUuaK"
      },
      "source": [
        "---\n",
        "### Exercise 1 - list head, tail and shape\n",
        "\n",
        "Write a function, **describe_list()** which will:\n",
        "*  print the length of the list `nums`\n",
        "*  print the first 10 items in `nums`  \n",
        "*  print the last 5 items in `nums`"
      ]
    },
    {
      "cell_type": "code",
      "metadata": {
        "id": "jUcZD7mmTJdA",
        "colab": {
          "base_uri": "https://localhost:8080/"
        },
        "outputId": "6fcdb7e5-3cf1-4ddb-90ec-dbcdd170c7c1"
      },
      "source": [
        "def describe_list():\n",
        "  print(\"Length of list: \",len(nums))\n",
        "  print(\"First ten items: \",nums[:10] )\n",
        "  print(\"Last 5 items: \", nums[-5:])\n",
        "describe_list()"
      ],
      "execution_count": 2,
      "outputs": [
        {
          "output_type": "stream",
          "name": "stdout",
          "text": [
            "Length of list:  1000\n",
            "First ten items:  [52, 20, 3, 22, 23, 43, 7, 28, 99, 66]\n",
            "Last 5 items:  [66, 52, 72, 64, 49]\n"
          ]
        }
      ]
    },
    {
      "cell_type": "markdown",
      "metadata": {
        "id": "yNWg08k6bXv0"
      },
      "source": [
        "---\n",
        "### Exercise 2 - show tuple items\n",
        "\n",
        "Write a function which will:\n",
        "*   use a loop to print the list of protected characteristics from the `protected_characteristics` tuple.\n"
      ]
    },
    {
      "cell_type": "code",
      "metadata": {
        "id": "P2HnCG9pb1BS",
        "colab": {
          "base_uri": "https://localhost:8080/"
        },
        "outputId": "a280dc70-9297-4fb0-8ef7-b3cf28811e48"
      },
      "source": [
        "def list_protected_charachteristics():\n",
        "    for protected_characteristics  in range(9):\n",
        "      print(protected_characteristics)\n",
        "list_protected_charachteristics()"
      ],
      "execution_count": 3,
      "outputs": [
        {
          "output_type": "stream",
          "name": "stdout",
          "text": [
            "0\n",
            "1\n",
            "2\n",
            "3\n",
            "4\n",
            "5\n",
            "6\n",
            "7\n",
            "8\n"
          ]
        }
      ]
    },
    {
      "cell_type": "markdown",
      "metadata": {
        "id": "RTSuQZs4b1JU"
      },
      "source": [
        "---\n",
        "### Exercise 3 - list a random subset\n",
        "\n",
        "Write a function which will:\n",
        "*  calculate the position of the middle item in the `characteristics` list   \n",
        "(*Hint: use len() to help with this*)\n",
        "*  calculate the position of the item that is 5 places before the middle item\n",
        "*  calculate the position of the item that is 5 places after the middle item\n",
        "*  print the part of the list that includes the items from 5 places before to 5 places after.  \n",
        "\n",
        "Expected output:  \n",
        "Your list will include 11 items."
      ]
    },
    {
      "cell_type": "code",
      "metadata": {
        "id": "OwhFnH2kdC11",
        "colab": {
          "base_uri": "https://localhost:8080/"
        },
        "outputId": "bc5d5702-4200-451d-913b-4439e97df55e"
      },
      "source": [
        "def random_subset_list():\n",
        "    length=len(characteristics)\n",
        "    middle=length//2\n",
        "    print(\"the position of the middle item in the characteristics list: \", middle)\n",
        "    before=middle-5\n",
        "    print(\"The position of the item that is 5 places before the middle item\", before)\n",
        "    after=middle+5\n",
        "    print(\"The position of the item that is 5 places before the middle item\", after)\n",
        "    part=characteristics[before:after]\n",
        "    print(\"part of the list that includes the items from 5 places before to 5 places after: \",part)\n",
        "random_subset_list()"
      ],
      "execution_count": 4,
      "outputs": [
        {
          "output_type": "stream",
          "name": "stdout",
          "text": [
            "the position of the middle item in the characteristics list:  976\n",
            "The position of the item that is 5 places before the middle item 971\n",
            "The position of the item that is 5 places before the middle item 981\n",
            "part of the list that includes the items from 5 places before to 5 places after:  ['age', 'gender reassignment', 'marriage and civil partnership', 'religion or belief', 'religion or belief', 'religion or belief', 'age', 'race', 'sexual orientation', 'race']\n"
          ]
        }
      ]
    },
    {
      "cell_type": "markdown",
      "metadata": {
        "id": "KS0x3oFNePI9"
      },
      "source": [
        "---\n",
        "### Exercise 4 - create a copy\n",
        "\n",
        "Write a function which will: use a for loop to create a copy of the `nums` list:\n",
        "\n",
        "*   create a new, empty, list called **new_nums**  (*Hint: an empty list is [ ]*)\n",
        "*   use a for loop which uses the following syntax:  `for num in nums:`\n",
        "*   each time round the loop append `num` to `new_nums`  ( *`new_nums.append(num)`*)\n",
        "*   print the first 10 items of `new_nums`\n",
        "*   print the first 10 items of `nums`\n",
        "*   print the length of both lists"
      ]
    },
    {
      "cell_type": "code",
      "metadata": {
        "id": "mpK1Ip3we-uC",
        "colab": {
          "base_uri": "https://localhost:8080/"
        },
        "outputId": "a13c4512-d465-430f-f82b-e45552fe8ff6"
      },
      "source": [
        "def copy_nums_list():\n",
        "  new_nums=[]\n",
        "  for num in nums:\n",
        "    # Append each item to new_nums\n",
        "    new_nums.append(num)\n",
        "   # print(new_num)\n",
        "  print(\"Print first ten items of new_nums: \", new_nums[:10])\n",
        "  print(\"Print first 10 items of nums: \", nums[:10])\n",
        "  print(\"Length of nums list: \",len(nums)  )\n",
        "  print(\"Length of new nums list: \", len(new_nums)  )\n",
        "copy_nums_list()"
      ],
      "execution_count": 5,
      "outputs": [
        {
          "output_type": "stream",
          "name": "stdout",
          "text": [
            "Print first ten items of new_nums:  [52, 20, 3, 22, 23, 43, 7, 28, 99, 66]\n",
            "Print first 10 items of nums:  [52, 20, 3, 22, 23, 43, 7, 28, 99, 66]\n",
            "Length of nums list:  1000\n",
            "Length of new nums list:  1000\n"
          ]
        }
      ]
    },
    {
      "cell_type": "markdown",
      "metadata": {
        "id": "deUIFWjRe-3G"
      },
      "source": [
        "\n",
        "\n",
        "```\n",
        "# This is formatted as code\n",
        "```\n",
        "\n",
        "---\n",
        "### Exercise 5 - count the occurrence of age in characteristics\n",
        "\n",
        "Write a function which will use the list method:\n",
        "\n",
        "`num_items = list_name.count(item)`\n",
        "\n",
        "to count the number of occurrences of 'age' in the `characteristics` list.  Print the result."
      ]
    },
    {
      "cell_type": "code",
      "metadata": {
        "id": "b9TrHQ9hfoIU",
        "colab": {
          "base_uri": "https://localhost:8080/"
        },
        "outputId": "77721bd0-ffb1-4e7c-cc8a-647fdb62590f"
      },
      "source": [
        "def count_age():\n",
        "  num_items = characteristics.count('age')\n",
        "  print(num_items)\n",
        "count_age()"
      ],
      "execution_count": 6,
      "outputs": [
        {
          "output_type": "stream",
          "name": "stdout",
          "text": [
            "249\n"
          ]
        }
      ]
    },
    {
      "cell_type": "markdown",
      "metadata": {
        "id": "zm2VI5RmfoSy"
      },
      "source": [
        "---\n",
        "### Exercise 6 - sort the nums list\n",
        "\n",
        "Write a function which will:\n",
        "*   call the function `get_num_list()` and store the result in a new list called **sort_nums**\n",
        "*   print the first, and last, 20 items in the `sort_nums` list\n",
        "*   use the `list_name.sort()` method to sort the `sort_nums` list into ascending order\n",
        "*   print the first, and last, 20 items again  \n",
        "*   use the `list_name.sort()` method again to sort the `sort_nums` list into descending order\n",
        "*   print the first, and last, 20 items again"
      ]
    },
    {
      "cell_type": "code",
      "metadata": {
        "id": "Fksgpj9JgWDs",
        "colab": {
          "base_uri": "https://localhost:8080/"
        },
        "outputId": "49a87ffb-88d7-4ca6-beb7-ebcf14164921"
      },
      "source": [
        "def sort_num_list():\n",
        "    #call the function get_num_list() and store the result in a new list called sort_nums\n",
        "    sort_nums=get_num_list()\n",
        "   #print the first, and last, 20 items in the sort_nums list\n",
        "    print(\"first 20 items\", sort_nums[:20])\n",
        "    print(\"last 20 items\", sort_nums[-20:])\n",
        "    #sort the sort_nums list into ascending order\n",
        "    sort_nums.sort()\n",
        "    #Again print the first, and last, 20 items in the sort_nums list\n",
        "    print(\"first 20 items\", sort_nums[:20])\n",
        "    print(\"last 20 items\", sort_nums[-20:])\n",
        "    # sort the sort_nums list into descending order\n",
        "    sort_nums.sort(reverse=True)\n",
        "    #Again print the first, and last, 20 items in the sort_nums list\n",
        "    print(\"first 20 items\", sort_nums[:20])\n",
        "    print(\"last 20 items\", sort_nums[-20:])\n",
        "\n",
        "\n",
        "sort_num_list()"
      ],
      "execution_count": 8,
      "outputs": [
        {
          "output_type": "stream",
          "name": "stdout",
          "text": [
            "first 20 items [80, 40, 60, 95, 72, 53, 56, 20, 8, 68, 46, 81, 16, 32, 67, 69, 90, 6, 21, 17]\n",
            "last 20 items [74, 56, 20, 50, 60, 37, 34, 30, 47, 5, 48, 72, 8, 8, 72, 9, 68, 21, 60, 13]\n",
            "first 20 items [1, 1, 1, 1, 2, 2, 2, 2, 2, 2, 2, 2, 2, 2, 2, 2, 3, 3, 3, 3]\n",
            "last 20 items [98, 98, 98, 99, 99, 99, 99, 99, 99, 99, 99, 99, 99, 99, 99, 99, 100, 100, 100, 100]\n",
            "first 20 items [100, 100, 100, 100, 99, 99, 99, 99, 99, 99, 99, 99, 99, 99, 99, 99, 99, 98, 98, 98]\n",
            "last 20 items [3, 3, 3, 3, 2, 2, 2, 2, 2, 2, 2, 2, 2, 2, 2, 2, 1, 1, 1, 1]\n"
          ]
        }
      ]
    },
    {
      "cell_type": "markdown",
      "metadata": {
        "id": "_OF-Xuj1UrW0"
      },
      "source": [
        "---\n",
        "### Exercise 7 - get statistics (max(), min(), sum() )\n",
        "\n",
        "Write a function which will:\n",
        "*   print the maximum and minimum numbers in the `nums` list  \n",
        "*   print the sum of the `nums` list\n",
        "*   calculate and print the average of the `nums` list (using `len()` to help)"
      ]
    },
    {
      "cell_type": "code",
      "metadata": {
        "id": "9YmYMenZVGod",
        "colab": {
          "base_uri": "https://localhost:8080/"
        },
        "outputId": "ae834199-5805-456c-fa50-79970d959bf1"
      },
      "source": [
        "def get_statistics():\n",
        "    #print the maximum and minimum numbers in the nums list\n",
        "    print(max(nums))\n",
        "    print(min(nums))\n",
        "\n",
        "    #print the sum of the nums list\n",
        "    print(sum(nums))\n",
        "\n",
        "    #print the average of the nums list\n",
        "    average=sum(nums)/len(nums)\n",
        "    print(average)\n",
        "get_statistics()"
      ],
      "execution_count": 10,
      "outputs": [
        {
          "output_type": "stream",
          "name": "stdout",
          "text": [
            "100\n",
            "1\n",
            "49583\n",
            "49.583\n"
          ]
        }
      ]
    },
    {
      "cell_type": "markdown",
      "metadata": {
        "id": "Mn4tHQ_KVbHa"
      },
      "source": [
        "---\n",
        "### Exercise 8 - percentage difference\n",
        "\n",
        "Write a function which will:\n",
        "*   generate a new list called **ex8_nums** using `get_num_list()`\n",
        "*   calculate and print the percentage difference between the first number in each list (as a percentage of the number in the nums list) (Hint:  find the difference between the two numbers, divide the difference by the number in `nums` and multiply by 100)\n",
        "*   calculate and print the percentage difference between the last numbers in each list in the same way\n",
        "*   calculate and print the percentage difference between the middle numbers in each list in the same way.\n",
        "*   calculate and print the percentage difference between the sums of each list in the same way"
      ]
    },
    {
      "cell_type": "code",
      "metadata": {
        "id": "nJCQjZIeZL0e",
        "colab": {
          "base_uri": "https://localhost:8080/"
        },
        "outputId": "2554db4f-75ae-4ae2-c1d1-fa34f6c4b80c"
      },
      "source": [
        "def percentage_difference():\n",
        "    ex8_nums=get_num_list()\n",
        "  # percentage difference between the first number in each list\n",
        "    num1=nums[0]\n",
        "    num2=ex8_nums[0]\n",
        "    difference=num2-num1\n",
        "    percentage=(difference/num1) * 100\n",
        "    print(percentage)\n",
        "  #percentage difference between the LAST number in each list\n",
        "    num1=nums[-1]\n",
        "    num2=ex8_nums[-1]\n",
        "    difference=num2-num1\n",
        "    percentage=(difference/num1)*100\n",
        "    print(percentage)\n",
        "\n",
        "  # MIDDLE NUMBER # percentage difference between the middle numbers in each list\n",
        "    middle_index=len(nums)//2\n",
        "    num1=nums[middle_index]\n",
        "    num2=ex8_nums[middle_index]\n",
        "    difference=num2-num1\n",
        "    percentage=(difference/num1)*100\n",
        "    print(percentage)\n",
        "\n",
        "    #sum  # percentage difference between the sums of each list\n",
        "    sum1=sum(nums)\n",
        "    sum2=sum(ex8_nums)\n",
        "    difference=sum2-sum1\n",
        "    percentage=(difference/sum1)*100\n",
        "    print(percentage)\n",
        "\n",
        "percentage_difference()"
      ],
      "execution_count": 12,
      "outputs": [
        {
          "output_type": "stream",
          "name": "stdout",
          "text": [
            "9.615384615384617\n",
            "-83.6734693877551\n",
            "-18.055555555555554\n",
            "2.704555997015106\n"
          ]
        }
      ]
    },
    {
      "cell_type": "markdown",
      "metadata": {
        "id": "HNs3lZmYawFO"
      },
      "source": [
        "---\n",
        "### Exercise 9 - characteristic counts\n",
        "\n",
        "Write a function which will:\n",
        "*  iterate through the `protected_characteristics` tuple and for each **characteristic**:\n",
        "*   *   count the number of occurrences of that `characteristic` in the `characteristics` list\n",
        "*   *   print the `protected_characteristic` and the **count**  \n",
        "\n",
        "Example expected output:\n",
        "\n",
        "age 100  \n",
        "disability 120  \n",
        "gender reassignment 120  \n",
        "marriage and civil partnership 111  \n",
        "pregnancy and maternity 103  \n",
        "race 106  \n",
        "religion or belief 95  \n",
        "sex 110  \n",
        "sexual orientation 113  \n",
        "\n",
        "Extra learning:  you can read [here](https://thispointer.com/python-how-to-pad-strings-with-zero-space-or-some-other-character/) how to justify the printed characteristic so that the output is organised into two columns as shown below:  \n",
        "![tabulated output](https://drive.google.com/uc?id=1CCXfX6K5ZeDefnq7vUsqxCDmqvcfY8Mz)\n",
        "\n",
        "\n",
        "\n"
      ]
    },
    {
      "cell_type": "code",
      "metadata": {
        "id": "GURT11albqUs",
        "colab": {
          "base_uri": "https://localhost:8080/"
        },
        "outputId": "cc876a64-14d9-478d-9993-679ae2ac7c05"
      },
      "source": [
        "def characteristic_counts():\n",
        "    for characteristic in protected_characteristics:\n",
        "      count=characteristics.count(characteristic)\n",
        "      print(characteristic,count)\n",
        "\n",
        "characteristic_counts()"
      ],
      "execution_count": 21,
      "outputs": [
        {
          "output_type": "stream",
          "name": "stdout",
          "text": [
            "age 249\n",
            "disability 226\n",
            "gender reassignment 219\n",
            "marriage and civil partnership 219\n",
            "pregnancy and maternity 219\n",
            "race 213\n",
            "religion or belief 217\n",
            "sex 198\n",
            "sexual orientation 193\n"
          ]
        }
      ]
    },
    {
      "cell_type": "markdown",
      "metadata": {
        "id": "9Po7yQj-ds38"
      },
      "source": [
        "---\n",
        "### Exercise 10 - characteristics statistics\n",
        "\n",
        "Assuming that the `characteristics` list may have been taken from a study of cases that have been taken to court in relation to the Equality Act.  \n",
        "\n",
        "Write a function which will:\n",
        "\n",
        "*   find the most common characteristic resulting in court action, from this population\n",
        "*   print this in a message, e.g. The characteristic with the highest number of court cases is:  *characteristic*\n",
        "*   print the list of `protected_characteristics`, on one line if possible - see [here](https://www.geeksforgeeks.org/g-fact-25-print-single-multiple-variable-python/)\n",
        "*   ask the user to enter a characteristic that they would like to see statistics on and use a while loop to continue until the user has entered a valid characteristic\n",
        "*   print the characteristic, its frequency and the percentage that this frequency is of the whole population."
      ]
    },
    {
      "cell_type": "code",
      "metadata": {
        "id": "uk_I5z7UgbDs",
        "colab": {
          "base_uri": "https://localhost:8080/"
        },
        "outputId": "4945ae55-f7a2-4f3c-f91b-b428b9d5cd1b"
      },
      "source": [
        "def characteristics_statistics():\n",
        "    #most common characteristic\n",
        "    most_common=max(protected_characteristics,key=lambda x:characteristics.count(x))\n",
        "    print(\"The characteristic with the highest number of court cases is: \", {most_common})\n",
        "\n",
        "    #list of protected_characteristics,\n",
        "    print(\", \".join(protected_characteristics))\n",
        "\n",
        "    user_input=input(\"Enter a characteristic: \")\n",
        "\n",
        "  # Use a while loop to check if the user input is valid\n",
        "    while user_input not in protected_characteristics:\n",
        "      # If not, print an error message and ask for another input\n",
        "      print(\"Invalid characteristic. Please enter one of the following:\")\n",
        "      print(\", \".join(protected_characteristics))\n",
        "      user_input= input(\"Enter a characteristic: \")\n",
        "\n",
        "    #Print the characteristic, its frequency and the percentage that this frequency is of the whole population.\n",
        "    frequency=characteristics.count(user_input)\n",
        "    percentage=(frequency/len(characteristics))*100\n",
        "\n",
        "    print(\"The characteristic\", {user_input},\" has\", {frequency}, \"court cases.\")\n",
        "    print(\"This is\", {percentage},\"% of the whole population.\")\n",
        "\n",
        "characteristics_statistics()"
      ],
      "execution_count": 32,
      "outputs": [
        {
          "output_type": "stream",
          "name": "stdout",
          "text": [
            "The characteristic with the highest number of court cases is:  {'age'}\n",
            "age, disability, gender reassignment, marriage and civil partnership, pregnancy and maternity, race, religion or belief, sex, sexual orientation\n",
            "Enter a characteristic: sex\n",
            "The characteristic {'sex'}  has {198} court cases.\n",
            "This is {10.138248847926267} % of the whole population.\n"
          ]
        }
      ]
    }
  ]
}