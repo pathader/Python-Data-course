{
  "nbformat": 4,
  "nbformat_minor": 0,
  "metadata": {
    "colab": {
      "provenance": [],
      "toc_visible": true,
      "include_colab_link": true
    },
    "kernelspec": {
      "name": "python3",
      "display_name": "Python 3"
    }
  },
  "cells": [
    {
      "cell_type": "markdown",
      "metadata": {
        "id": "view-in-github",
        "colab_type": "text"
      },
      "source": [
        "<a href=\"https://colab.research.google.com/github/pathader/Python-Data-course/blob/main/Copy_of_02_DataTypes2.ipynb\" target=\"_parent\"><img src=\"https://colab.research.google.com/assets/colab-badge.svg\" alt=\"Open In Colab\"/></a>"
      ]
    },
    {
      "cell_type": "markdown",
      "metadata": {
        "id": "3O7iro_BV0mL"
      },
      "source": [
        "# Data Types and Operators\n",
        "\n",
        "---"
      ]
    },
    {
      "cell_type": "markdown",
      "metadata": {
        "id": "ZQgTpaaKLIsF"
      },
      "source": [
        "# Changing Data Input Type\n",
        "**Recap**: to get input from the user and store it in a variable, use the instruction  \n",
        "\n",
        "*variableName = input(\"message asking user for required information\")  *\n",
        "\n",
        "**Remember**: Unless you state otherwise, all input is String data  \n",
        "\n",
        "Integers are whole numbers and can be both positive or negative.  \n",
        "Floats are decimal numbers which have a 'floating' decimal point.  \n",
        "To change the input data type, we can specify the type of data we would like from the user  \n",
        "\n",
        "*variableNameInteger = int(input(\"Please input a whole number \"))*  \n",
        "\n",
        "*variableNameFloat = float(input(\"Please input a decimal number \")) *\n",
        "\n",
        "By using either *int()* or *float()* it tells Python what kind of data will be stored in the variable  \n"
      ]
    },
    {
      "cell_type": "code",
      "metadata": {
        "id": "5usXzQ4OLDx3",
        "colab": {
          "base_uri": "https://localhost:8080/"
        },
        "outputId": "530434d0-2f65-45fc-b318-37e929895f4d"
      },
      "source": [
        "VarNameInt=int(input(\"Please input a whole number \"))\n",
        "varnameFloat=float(input(\"Please enter a decimal number \"))"
      ],
      "execution_count": 8,
      "outputs": [
        {
          "name": "stdout",
          "output_type": "stream",
          "text": [
            "Please input a whole number 40\n",
            "Please enter a decimal number 40.6\n"
          ]
        }
      ]
    },
    {
      "cell_type": "markdown",
      "metadata": {
        "id": "y9KJWVXhLcAB"
      },
      "source": [
        "---\n",
        "### Exercise 1 - changing data type\n",
        "Write a function called **print_details()** which will:  \n",
        "\n",
        "*  ask the user their name, age and height in metres  \n",
        "*  print the message Hello `name` you are `age` years old and `height` metres tall  \n",
        "\n",
        "*Remember to specify the correct data type for each input*   \n",
        "\n",
        "Test Input:  \n",
        "Jean  \n",
        "52  \n",
        "2.3  \n",
        "\n",
        "Expected Output:  \n",
        "Hello Jean you are 52 years old and 2.3 metres tall\n"
      ]
    },
    {
      "cell_type": "code",
      "metadata": {
        "id": "zA85A39JLzfF",
        "colab": {
          "base_uri": "https://localhost:8080/"
        },
        "outputId": "6fd5bc91-97a5-4d71-959a-8554997608fe"
      },
      "source": [
        "def print_details():\n",
        "    UserName=str(input(\"Enter your name \"))\n",
        "    Age=int(input(\"Enter your age \"))\n",
        "    Height=float(input(\"Enter your height in meters \"))\n",
        "    print(\"Hello \", UserName, \"you are \", Age, \"years old and\", Height, \" meters tall\")\n",
        "\n",
        "print_details()\n",
        "\n"
      ],
      "execution_count": 8,
      "outputs": [
        {
          "output_type": "stream",
          "name": "stdout",
          "text": [
            "Enter your name Jean\n",
            "Enter your age 52\n",
            "Enter your height in meters 2.3\n",
            "Hello  Jean you are  52 years old and 2.3  meters tall\n"
          ]
        }
      ]
    },
    {
      "cell_type": "markdown",
      "metadata": {
        "id": "_tBD2cGDW1GB"
      },
      "source": [
        "---\n",
        "### Exercise 2 - boolean variables\n",
        "\n",
        "A **boolean variable** can hold just two values, True or False.  This type of variable is hugely valuable in holding onto the state of things.  For example, a boolean variable called loggedIn might hold True if the user is loggedIn and False otherwise.  This means that at any point while a program is running, it is possible to ask the question \"Is the user logged in?\".  The answer will depend on the value of the variable loggedIn.  \n",
        "\n",
        "Although we will use the values True and False as words, Python stores them as 1 for true and 0 for false.   \n",
        "\n",
        "To demonstrate this, write a function called **show_trueFalse()** which will:  \n",
        "\n",
        "*  create a variable called **logged_in** and assign it the value True (use the assignment operator **=** the same as usual)  \n",
        "*  create a variable called **logged_in_as_num** and assign it the value int(True)  \n",
        "*  print `logged_in` and `logged_in_as_num`\n",
        "\n",
        "Expected output:  \n",
        "True 1\n",
        "\n",
        "When you have run this, change True to False in both places.\n",
        "\n",
        "Expected output:  \n",
        "False 0\n"
      ]
    },
    {
      "cell_type": "code",
      "metadata": {
        "id": "XNHcNQEKW8xj",
        "colab": {
          "base_uri": "https://localhost:8080/"
        },
        "outputId": "09a84799-1feb-4690-8057-e328e2da78f5"
      },
      "source": [
        "def show_trueFalse():\n",
        "    logged_in=True\n",
        "    logged_in_as_num=int(True)\n",
        "    print(logged_in, \"and \", logged_in_as_num)\n",
        "\n",
        "    #logged_in=Flase\n",
        "    #loggged_in_as_num=int(Flase)\n",
        "    #print(logged_in, \"and \", logged_in_as_num)\n",
        "show_trueFalse()"
      ],
      "execution_count": 4,
      "outputs": [
        {
          "output_type": "stream",
          "name": "stdout",
          "text": [
            "True and  1\n"
          ]
        }
      ]
    },
    {
      "cell_type": "markdown",
      "metadata": {
        "id": "r8O47uBPW9Gy"
      },
      "source": [
        "---\n",
        "### Exercise 3 - converting float to int\n",
        "\n",
        "Write a function called **count_poundCoins()** which will:  \n",
        "\n",
        "*  ask the user to enter an amount in pounds and pence and assign this value to a float variable called **pounds_pence**  \n",
        "*  convert the float variable to int and assign this value to a variable called **pound_coins**  \n",
        "*  print the message Number of pound coins `pound_coins`  \n",
        "\n",
        "Test input:  \n",
        "3.48  \n",
        "\n",
        "Expected output:  \n",
        "Number of pound coins 3\n",
        "\n"
      ]
    },
    {
      "cell_type": "code",
      "metadata": {
        "id": "aTO1l1iNXUNt",
        "colab": {
          "base_uri": "https://localhost:8080/"
        },
        "outputId": "d5243fc6-b0ae-44cf-e0e3-e673c593e706"
      },
      "source": [
        "def count_poundCoins():\n",
        "    pound_pence=float(input(\"Enter an amount in pound and pence \"))\n",
        "    pound_coins=int(pound_pence)\n",
        "    print(\"Number of pound coins \", pound_coins)\n",
        "count_poundCoins()"
      ],
      "execution_count": 7,
      "outputs": [
        {
          "output_type": "stream",
          "name": "stdout",
          "text": [
            "Enter an amount in pound and pence 3.48\n",
            "Number of pound coins  3\n"
          ]
        }
      ]
    },
    {
      "cell_type": "markdown",
      "metadata": {
        "id": "Wy_L3E_-XUWa"
      },
      "source": [
        "---\n",
        "### Exercise 4 - converting int to string\n",
        "\n",
        "Write a function called **format_currency()** which will:\n",
        "\n",
        "*  ask the user to enter a number of pounds and assign this to an integer variable called **num_pounds**  \n",
        "*  convert numPounds to a string and assign it to a variable called **pounds**  \n",
        "*  create a String variable called **currency** which has a \"£\", pounds, \".00\" joined together\n",
        "*  print the resulting currency, including the £ sign  \n",
        "\n",
        "Test input:  \n",
        "4\n",
        "\n",
        "Expected output:  \n",
        "£4.00\n"
      ]
    },
    {
      "cell_type": "code",
      "metadata": {
        "id": "2hHoJyjMXXUK",
        "colab": {
          "base_uri": "https://localhost:8080/"
        },
        "outputId": "c961e71f-df99-4566-b8c8-428f4a37288c"
      },
      "source": [
        "import string\n",
        "def format_currency():\n",
        "    num_pounds=int(input(\"Enter a number of pounds \"))\n",
        "    pounds=str(num_pounds)\n",
        "    currency=\"£\" + pounds +\".00\"\n",
        "    print(currency)\n",
        "\n",
        "format_currency()"
      ],
      "execution_count": 14,
      "outputs": [
        {
          "output_type": "stream",
          "name": "stdout",
          "text": [
            "Enter a number of pounds 4\n",
            "£4.00\n"
          ]
        }
      ]
    },
    {
      "cell_type": "markdown",
      "metadata": {
        "id": "nBZqJ5d7XXdc"
      },
      "source": [
        "---\n",
        "### Exercise 5 - area of a circle\n",
        "\n",
        "Write a function called **calculate_area()** which will:\n",
        "\n",
        "*  ask the user to enter the **radius** of a circle (which could be a float or an int)  \n",
        "*  create a variable called **pi** and assign it the value 3.14159\n",
        "*  calculate the **area** of the circle (`area = pi * radius * radius`)  \n",
        "*  print the area of the circle to 2 decimal places (`print(round(area, 2))` ).  \n",
        "\n",
        "Test input:  \n",
        "5\n",
        "\n",
        "Expected output:  \n",
        "78.54"
      ]
    },
    {
      "cell_type": "code",
      "metadata": {
        "id": "GbkuKY-_dwn0",
        "colab": {
          "base_uri": "https://localhost:8080/"
        },
        "outputId": "bac04e78-a5cf-400c-f9e1-adedc7b1a170"
      },
      "source": [
        "def calculate_area():\n",
        "    radius=float(input(\"Enter the radius of a circle \"))\n",
        "    pi=3.14159\n",
        "    area=pi*radius*radius\n",
        "    print(\"Area of circle is \", round(area, 2))\n",
        "\n",
        "calculate_area()"
      ],
      "execution_count": 16,
      "outputs": [
        {
          "output_type": "stream",
          "name": "stdout",
          "text": [
            "Enter the radius of a circle 5\n",
            "Area of circle is  78.54\n"
          ]
        }
      ]
    }
  ]
}